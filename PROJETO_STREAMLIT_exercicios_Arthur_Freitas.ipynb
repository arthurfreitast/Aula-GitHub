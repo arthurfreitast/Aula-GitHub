{
  "cells": [
    {
      "cell_type": "markdown",
      "metadata": {
        "id": "xsDf_v4acvAD"
      },
      "source": [
        "<center><img src=\"https://raw.githubusercontent.com/rafael-arevalo/orbeai/master/Logo-Orbe-sem-fundo.png\" height=\"300px\"></center>\n",
        "\n",
        "\n",
        "# **STREAMLIT: projeto - exercícios.**\n",
        "\n",
        "<center><img src=\"https://raw.githubusercontent.com/rafael-arevalo/orbeai/master/M05_streamlit_logo.png\" height=\"100px\"></center>"
      ]
    },
    {
      "cell_type": "markdown",
      "metadata": {
        "id": "PZ899Kilc9I1"
      },
      "source": [
        "## **01.COMPREENDER O NEGÓCIO.**"
      ]
    },
    {
      "cell_type": "markdown",
      "metadata": {
        "id": "NckG8sLHhBGp"
      },
      "source": [
        "- Definal qual o **problema de classificação** do seu projeto.\n",
        "- Defina quais são as **classes a serem preditas** no seu projeto.\n",
        "\n",
        "- Exemplo:\n",
        "\n",
        " - **Problema:** Classificar a quantidade de líquido nas garrafas durante o processo de produção.\n",
        "    - **Classe 01:** Garrafa cheia\n",
        "    - **Classe 02:** Garrafa vazia\n"
      ]
    },
    {
      "cell_type": "markdown",
      "metadata": {
        "id": "Cmmr1RY1dFfl"
      },
      "source": [
        "## **02.TREINAR O MODELO DE CLASSIFICAÇÃO.**"
      ]
    },
    {
      "cell_type": "markdown",
      "metadata": {
        "id": "sMz0PJeOhWaW"
      },
      "source": [
        "- Para treinar e obter o modelo de classificação, vamos usar o site do *Teachable Machine* e realizar os seguintes passos:\n",
        "\n",
        "\n",
        "1.   Entre no site do [Teachable Machine.](https://teachablemachine.withgoogle.com/)\n",
        "2.   Clique no botão **começar** (*get started*).\n",
        "3.   Em NOVO PROJETO selecione a opção **Projeto de imagem.** (*image project*).\n",
        "4.   Selecione a opção **modelo de imagem padrão**.\n",
        "5.   Treine o seu modelo com as imagens necessárias (assim como no projeto do módulo 01).\n",
        "6.   Exporte o modelo clicando no botão **exportar modelo**, em seguida na aba **Tensorflow** e por fim clique no botão **Transferir o meu modelo** (*download my model*).\n",
        "7.   Após o *download*, transfira o arquivo do modelo (keras_model.h5) para a área de arquivos no Google Colab (assim como fazemos com os *datasets*). \n",
        " - **Observação:** caso o arquivo venha **\"zipado\"** do *download*, primeiro retire o arquivo do modelo (keras_model.h5) da pasta **\"zipada\"** e só depois inclua o arquivo (keras_model.h5) na área de arquivos do Google Colab na lateral esquerda. \n",
        "\n"
      ]
    },
    {
      "cell_type": "markdown",
      "metadata": {
        "id": "zCZedw4idNat"
      },
      "source": [
        "## **03.INSTALANDO AS BIBLIOTECAS NECESSÁRIAS.**"
      ]
    },
    {
      "cell_type": "markdown",
      "metadata": {
        "id": "_qWAXlAhka7m"
      },
      "source": [
        "- Para este projeto precisamos instalar as seguintes bibliotecas:\n",
        "\n",
        "\n",
        "  - **numpy** - para trabalhar com números.\n",
        "  - **pillow** -  para trabalhar com imagens.\n",
        "  - **tensorflow** - para trabalhar com inteligênicia artificial.\n",
        "  - **keras** - para trabalhar com inteligênicia artificial.\n",
        "  -  **streamlit** - para criar o aplicativo.\n",
        "\n",
        "- Para instalar as bibliotecas:\n",
        "\n",
        "````\n",
        "!pip install numpy\n",
        "!pip install pillow\n",
        "!pip install tensorflow\n",
        "!pip install keras\n",
        "!pip install streamlit\n",
        "````\n"
      ]
    },
    {
      "cell_type": "code",
      "execution_count": null,
      "metadata": {
        "colab": {
          "background_save": true,
          "base_uri": "https://localhost:8080/"
        },
        "id": "ZL2nRug-kg0_",
        "outputId": "baed0038-56de-47fa-ce0a-a52d2edb10b7"
      },
      "outputs": [
        {
          "name": "stdout",
          "output_type": "stream",
          "text": [
            "Requirement already satisfied: numpy in /usr/local/lib/python3.7/dist-packages (1.21.5)\n",
            "Requirement already satisfied: pillow in /usr/local/lib/python3.7/dist-packages (7.1.2)\n",
            "Requirement already satisfied: tensorflow in /usr/local/lib/python3.7/dist-packages (2.8.0)\n",
            "Requirement already satisfied: setuptools in /usr/local/lib/python3.7/dist-packages (from tensorflow) (57.4.0)\n",
            "Requirement already satisfied: gast>=0.2.1 in /usr/local/lib/python3.7/dist-packages (from tensorflow) (0.5.3)\n",
            "Requirement already satisfied: opt-einsum>=2.3.2 in /usr/local/lib/python3.7/dist-packages (from tensorflow) (3.3.0)\n",
            "Requirement already satisfied: numpy>=1.20 in /usr/local/lib/python3.7/dist-packages (from tensorflow) (1.21.5)\n",
            "Requirement already satisfied: tf-estimator-nightly==2.8.0.dev2021122109 in /usr/local/lib/python3.7/dist-packages (from tensorflow) (2.8.0.dev2021122109)\n",
            "Requirement already satisfied: typing-extensions>=3.6.6 in /usr/local/lib/python3.7/dist-packages (from tensorflow) (3.10.0.2)\n",
            "Requirement already satisfied: h5py>=2.9.0 in /usr/local/lib/python3.7/dist-packages (from tensorflow) (3.1.0)\n",
            "Requirement already satisfied: libclang>=9.0.1 in /usr/local/lib/python3.7/dist-packages (from tensorflow) (13.0.0)\n",
            "Requirement already satisfied: astunparse>=1.6.0 in /usr/local/lib/python3.7/dist-packages (from tensorflow) (1.6.3)\n",
            "Requirement already satisfied: six>=1.12.0 in /usr/local/lib/python3.7/dist-packages (from tensorflow) (1.15.0)\n",
            "Requirement already satisfied: absl-py>=0.4.0 in /usr/local/lib/python3.7/dist-packages (from tensorflow) (1.0.0)\n",
            "Requirement already satisfied: google-pasta>=0.1.1 in /usr/local/lib/python3.7/dist-packages (from tensorflow) (0.2.0)\n",
            "Requirement already satisfied: flatbuffers>=1.12 in /usr/local/lib/python3.7/dist-packages (from tensorflow) (2.0)\n",
            "Requirement already satisfied: wrapt>=1.11.0 in /usr/local/lib/python3.7/dist-packages (from tensorflow) (1.13.3)\n",
            "Requirement already satisfied: termcolor>=1.1.0 in /usr/local/lib/python3.7/dist-packages (from tensorflow) (1.1.0)\n",
            "Requirement already satisfied: protobuf>=3.9.2 in /usr/local/lib/python3.7/dist-packages (from tensorflow) (3.17.3)\n",
            "Requirement already satisfied: grpcio<2.0,>=1.24.3 in /usr/local/lib/python3.7/dist-packages (from tensorflow) (1.43.0)\n",
            "Requirement already satisfied: tensorflow-io-gcs-filesystem>=0.23.1 in /usr/local/lib/python3.7/dist-packages (from tensorflow) (0.24.0)\n",
            "Requirement already satisfied: keras-preprocessing>=1.1.1 in /usr/local/lib/python3.7/dist-packages (from tensorflow) (1.1.2)\n",
            "Requirement already satisfied: tensorboard<2.9,>=2.8 in /usr/local/lib/python3.7/dist-packages (from tensorflow) (2.8.0)\n",
            "Requirement already satisfied: keras<2.9,>=2.8.0rc0 in /usr/local/lib/python3.7/dist-packages (from tensorflow) (2.8.0)\n",
            "Requirement already satisfied: wheel<1.0,>=0.23.0 in /usr/local/lib/python3.7/dist-packages (from astunparse>=1.6.0->tensorflow) (0.37.1)\n",
            "Requirement already satisfied: cached-property in /usr/local/lib/python3.7/dist-packages (from h5py>=2.9.0->tensorflow) (1.5.2)\n",
            "Requirement already satisfied: markdown>=2.6.8 in /usr/local/lib/python3.7/dist-packages (from tensorboard<2.9,>=2.8->tensorflow) (3.3.6)\n",
            "Requirement already satisfied: google-auth-oauthlib<0.5,>=0.4.1 in /usr/local/lib/python3.7/dist-packages (from tensorboard<2.9,>=2.8->tensorflow) (0.4.6)\n",
            "Requirement already satisfied: google-auth<3,>=1.6.3 in /usr/local/lib/python3.7/dist-packages (from tensorboard<2.9,>=2.8->tensorflow) (1.35.0)\n",
            "Requirement already satisfied: werkzeug>=0.11.15 in /usr/local/lib/python3.7/dist-packages (from tensorboard<2.9,>=2.8->tensorflow) (1.0.1)\n",
            "Requirement already satisfied: tensorboard-plugin-wit>=1.6.0 in /usr/local/lib/python3.7/dist-packages (from tensorboard<2.9,>=2.8->tensorflow) (1.8.1)\n",
            "Requirement already satisfied: tensorboard-data-server<0.7.0,>=0.6.0 in /usr/local/lib/python3.7/dist-packages (from tensorboard<2.9,>=2.8->tensorflow) (0.6.1)\n",
            "Requirement already satisfied: requests<3,>=2.21.0 in /usr/local/lib/python3.7/dist-packages (from tensorboard<2.9,>=2.8->tensorflow) (2.23.0)\n",
            "Requirement already satisfied: rsa<5,>=3.1.4 in /usr/local/lib/python3.7/dist-packages (from google-auth<3,>=1.6.3->tensorboard<2.9,>=2.8->tensorflow) (4.8)\n",
            "Requirement already satisfied: cachetools<5.0,>=2.0.0 in /usr/local/lib/python3.7/dist-packages (from google-auth<3,>=1.6.3->tensorboard<2.9,>=2.8->tensorflow) (4.2.4)\n",
            "Requirement already satisfied: pyasn1-modules>=0.2.1 in /usr/local/lib/python3.7/dist-packages (from google-auth<3,>=1.6.3->tensorboard<2.9,>=2.8->tensorflow) (0.2.8)\n",
            "Requirement already satisfied: requests-oauthlib>=0.7.0 in /usr/local/lib/python3.7/dist-packages (from google-auth-oauthlib<0.5,>=0.4.1->tensorboard<2.9,>=2.8->tensorflow) (1.3.1)\n",
            "Requirement already satisfied: importlib-metadata>=4.4 in /usr/local/lib/python3.7/dist-packages (from markdown>=2.6.8->tensorboard<2.9,>=2.8->tensorflow) (4.11.1)\n",
            "Requirement already satisfied: zipp>=0.5 in /usr/local/lib/python3.7/dist-packages (from importlib-metadata>=4.4->markdown>=2.6.8->tensorboard<2.9,>=2.8->tensorflow) (3.7.0)\n",
            "Requirement already satisfied: pyasn1<0.5.0,>=0.4.6 in /usr/local/lib/python3.7/dist-packages (from pyasn1-modules>=0.2.1->google-auth<3,>=1.6.3->tensorboard<2.9,>=2.8->tensorflow) (0.4.8)\n",
            "Requirement already satisfied: idna<3,>=2.5 in /usr/local/lib/python3.7/dist-packages (from requests<3,>=2.21.0->tensorboard<2.9,>=2.8->tensorflow) (2.10)\n",
            "Requirement already satisfied: chardet<4,>=3.0.2 in /usr/local/lib/python3.7/dist-packages (from requests<3,>=2.21.0->tensorboard<2.9,>=2.8->tensorflow) (3.0.4)\n",
            "Requirement already satisfied: urllib3!=1.25.0,!=1.25.1,<1.26,>=1.21.1 in /usr/local/lib/python3.7/dist-packages (from requests<3,>=2.21.0->tensorboard<2.9,>=2.8->tensorflow) (1.24.3)\n",
            "Requirement already satisfied: certifi>=2017.4.17 in /usr/local/lib/python3.7/dist-packages (from requests<3,>=2.21.0->tensorboard<2.9,>=2.8->tensorflow) (2021.10.8)\n",
            "Requirement already satisfied: oauthlib>=3.0.0 in /usr/local/lib/python3.7/dist-packages (from requests-oauthlib>=0.7.0->google-auth-oauthlib<0.5,>=0.4.1->tensorboard<2.9,>=2.8->tensorflow) (3.2.0)\n",
            "Requirement already satisfied: keras in /usr/local/lib/python3.7/dist-packages (2.8.0)\n",
            "Requirement already satisfied: streamlit in /usr/local/lib/python3.7/dist-packages (1.5.1)\n",
            "Requirement already satisfied: pandas>=0.21.0 in /usr/local/lib/python3.7/dist-packages (from streamlit) (1.3.5)\n",
            "Requirement already satisfied: protobuf!=3.11,>=3.6.0 in /usr/local/lib/python3.7/dist-packages (from streamlit) (3.17.3)\n",
            "Requirement already satisfied: python-dateutil in /usr/local/lib/python3.7/dist-packages (from streamlit) (2.8.2)\n",
            "Requirement already satisfied: click>=7.0 in /usr/local/lib/python3.7/dist-packages (from streamlit) (7.1.2)\n",
            "Requirement already satisfied: blinker in /usr/local/lib/python3.7/dist-packages (from streamlit) (1.4)\n",
            "Requirement already satisfied: packaging in /usr/local/lib/python3.7/dist-packages (from streamlit) (21.3)\n",
            "Requirement already satisfied: validators in /usr/local/lib/python3.7/dist-packages (from streamlit) (0.18.2)\n",
            "Requirement already satisfied: tzlocal in /usr/local/lib/python3.7/dist-packages (from streamlit) (1.5.1)\n",
            "Requirement already satisfied: requests in /usr/local/lib/python3.7/dist-packages (from streamlit) (2.23.0)\n",
            "Requirement already satisfied: watchdog in /usr/local/lib/python3.7/dist-packages (from streamlit) (2.1.6)\n",
            "Requirement already satisfied: attrs in /usr/local/lib/python3.7/dist-packages (from streamlit) (21.4.0)\n",
            "Requirement already satisfied: base58 in /usr/local/lib/python3.7/dist-packages (from streamlit) (2.1.1)\n",
            "Requirement already satisfied: cachetools>=4.0 in /usr/local/lib/python3.7/dist-packages (from streamlit) (4.2.4)\n",
            "Requirement already satisfied: typing-extensions in /usr/local/lib/python3.7/dist-packages (from streamlit) (3.10.0.2)\n",
            "Requirement already satisfied: pillow>=6.2.0 in /usr/local/lib/python3.7/dist-packages (from streamlit) (7.1.2)\n",
            "Requirement already satisfied: pympler>=0.9 in /usr/local/lib/python3.7/dist-packages (from streamlit) (1.0.1)\n",
            "Requirement already satisfied: toml in /usr/local/lib/python3.7/dist-packages (from streamlit) (0.10.2)\n",
            "Requirement already satisfied: astor in /usr/local/lib/python3.7/dist-packages (from streamlit) (0.8.1)\n",
            "Requirement already satisfied: numpy in /usr/local/lib/python3.7/dist-packages (from streamlit) (1.21.5)\n",
            "Requirement already satisfied: pyarrow in /usr/local/lib/python3.7/dist-packages (from streamlit) (6.0.1)\n",
            "Requirement already satisfied: pydeck>=0.1.dev5 in /usr/local/lib/python3.7/dist-packages (from streamlit) (0.7.1)\n",
            "Requirement already satisfied: altair>=3.2.0 in /usr/local/lib/python3.7/dist-packages (from streamlit) (4.2.0)\n",
            "Requirement already satisfied: gitpython!=3.1.19 in /usr/local/lib/python3.7/dist-packages (from streamlit) (3.1.27)\n",
            "Requirement already satisfied: tornado>=5.0 in /usr/local/lib/python3.7/dist-packages (from streamlit) (5.1.1)\n",
            "Requirement already satisfied: jsonschema>=3.0 in /usr/local/lib/python3.7/dist-packages (from altair>=3.2.0->streamlit) (4.3.3)\n",
            "Requirement already satisfied: entrypoints in /usr/local/lib/python3.7/dist-packages (from altair>=3.2.0->streamlit) (0.4)\n",
            "Requirement already satisfied: toolz in /usr/local/lib/python3.7/dist-packages (from altair>=3.2.0->streamlit) (0.11.2)\n",
            "Requirement already satisfied: jinja2 in /usr/local/lib/python3.7/dist-packages (from altair>=3.2.0->streamlit) (2.11.3)\n",
            "Requirement already satisfied: gitdb<5,>=4.0.1 in /usr/local/lib/python3.7/dist-packages (from gitpython!=3.1.19->streamlit) (4.0.9)\n",
            "Requirement already satisfied: smmap<6,>=3.0.1 in /usr/local/lib/python3.7/dist-packages (from gitdb<5,>=4.0.1->gitpython!=3.1.19->streamlit) (5.0.0)\n",
            "Requirement already satisfied: importlib-metadata in /usr/local/lib/python3.7/dist-packages (from jsonschema>=3.0->altair>=3.2.0->streamlit) (4.11.1)\n",
            "Requirement already satisfied: importlib-resources>=1.4.0 in /usr/local/lib/python3.7/dist-packages (from jsonschema>=3.0->altair>=3.2.0->streamlit) (5.4.0)\n",
            "Requirement already satisfied: pyrsistent!=0.17.0,!=0.17.1,!=0.17.2,>=0.14.0 in /usr/local/lib/python3.7/dist-packages (from jsonschema>=3.0->altair>=3.2.0->streamlit) (0.18.1)\n",
            "Requirement already satisfied: zipp>=3.1.0 in /usr/local/lib/python3.7/dist-packages (from importlib-resources>=1.4.0->jsonschema>=3.0->altair>=3.2.0->streamlit) (3.7.0)\n",
            "Requirement already satisfied: pytz>=2017.3 in /usr/local/lib/python3.7/dist-packages (from pandas>=0.21.0->streamlit) (2018.9)\n",
            "Requirement already satisfied: six>=1.9 in /usr/local/lib/python3.7/dist-packages (from protobuf!=3.11,>=3.6.0->streamlit) (1.15.0)\n",
            "Requirement already satisfied: ipywidgets>=7.0.0 in /usr/local/lib/python3.7/dist-packages (from pydeck>=0.1.dev5->streamlit) (7.6.5)\n",
            "Requirement already satisfied: traitlets>=4.3.2 in /usr/local/lib/python3.7/dist-packages (from pydeck>=0.1.dev5->streamlit) (5.1.1)\n",
            "Requirement already satisfied: ipykernel>=5.1.2 in /usr/local/lib/python3.7/dist-packages (from pydeck>=0.1.dev5->streamlit) (6.9.1)\n",
            "Requirement already satisfied: debugpy<2.0,>=1.0.0 in /usr/local/lib/python3.7/dist-packages (from ipykernel>=5.1.2->pydeck>=0.1.dev5->streamlit) (1.0.0)\n",
            "Requirement already satisfied: jupyter-client<8.0 in /usr/local/lib/python3.7/dist-packages (from ipykernel>=5.1.2->pydeck>=0.1.dev5->streamlit) (5.3.5)\n",
            "Requirement already satisfied: matplotlib-inline<0.2.0,>=0.1.0 in /usr/local/lib/python3.7/dist-packages (from ipykernel>=5.1.2->pydeck>=0.1.dev5->streamlit) (0.1.3)\n",
            "Requirement already satisfied: ipython>=7.23.1 in /usr/local/lib/python3.7/dist-packages (from ipykernel>=5.1.2->pydeck>=0.1.dev5->streamlit) (7.31.1)\n",
            "Requirement already satisfied: nest-asyncio in /usr/local/lib/python3.7/dist-packages (from ipykernel>=5.1.2->pydeck>=0.1.dev5->streamlit) (1.5.4)\n",
            "Requirement already satisfied: pygments in /usr/local/lib/python3.7/dist-packages (from ipython>=7.23.1->ipykernel>=5.1.2->pydeck>=0.1.dev5->streamlit) (2.6.1)\n",
            "Requirement already satisfied: setuptools>=18.5 in /usr/local/lib/python3.7/dist-packages (from ipython>=7.23.1->ipykernel>=5.1.2->pydeck>=0.1.dev5->streamlit) (57.4.0)\n",
            "Requirement already satisfied: prompt-toolkit!=3.0.0,!=3.0.1,<3.1.0,>=2.0.0 in /usr/local/lib/python3.7/dist-packages (from ipython>=7.23.1->ipykernel>=5.1.2->pydeck>=0.1.dev5->streamlit) (3.0.28)\n",
            "Requirement already satisfied: pickleshare in /usr/local/lib/python3.7/dist-packages (from ipython>=7.23.1->ipykernel>=5.1.2->pydeck>=0.1.dev5->streamlit) (0.7.5)\n",
            "Requirement already satisfied: pexpect>4.3 in /usr/local/lib/python3.7/dist-packages (from ipython>=7.23.1->ipykernel>=5.1.2->pydeck>=0.1.dev5->streamlit) (4.8.0)\n",
            "Requirement already satisfied: jedi>=0.16 in /usr/local/lib/python3.7/dist-packages (from ipython>=7.23.1->ipykernel>=5.1.2->pydeck>=0.1.dev5->streamlit) (0.18.1)\n",
            "Requirement already satisfied: backcall in /usr/local/lib/python3.7/dist-packages (from ipython>=7.23.1->ipykernel>=5.1.2->pydeck>=0.1.dev5->streamlit) (0.2.0)\n",
            "Requirement already satisfied: decorator in /usr/local/lib/python3.7/dist-packages (from ipython>=7.23.1->ipykernel>=5.1.2->pydeck>=0.1.dev5->streamlit) (4.4.2)\n",
            "Requirement already satisfied: jupyterlab-widgets>=1.0.0 in /usr/local/lib/python3.7/dist-packages (from ipywidgets>=7.0.0->pydeck>=0.1.dev5->streamlit) (1.0.2)\n",
            "Requirement already satisfied: nbformat>=4.2.0 in /usr/local/lib/python3.7/dist-packages (from ipywidgets>=7.0.0->pydeck>=0.1.dev5->streamlit) (5.1.3)\n",
            "Requirement already satisfied: ipython-genutils~=0.2.0 in /usr/local/lib/python3.7/dist-packages (from ipywidgets>=7.0.0->pydeck>=0.1.dev5->streamlit) (0.2.0)\n",
            "Requirement already satisfied: widgetsnbextension~=3.5.0 in /usr/local/lib/python3.7/dist-packages (from ipywidgets>=7.0.0->pydeck>=0.1.dev5->streamlit) (3.5.2)\n",
            "Requirement already satisfied: parso<0.9.0,>=0.8.0 in /usr/local/lib/python3.7/dist-packages (from jedi>=0.16->ipython>=7.23.1->ipykernel>=5.1.2->pydeck>=0.1.dev5->streamlit) (0.8.3)\n",
            "Requirement already satisfied: MarkupSafe>=0.23 in /usr/local/lib/python3.7/dist-packages (from jinja2->altair>=3.2.0->streamlit) (2.0.1)\n",
            "Requirement already satisfied: jupyter-core>=4.6.0 in /usr/local/lib/python3.7/dist-packages (from jupyter-client<8.0->ipykernel>=5.1.2->pydeck>=0.1.dev5->streamlit) (4.9.2)\n",
            "Requirement already satisfied: pyzmq>=13 in /usr/local/lib/python3.7/dist-packages (from jupyter-client<8.0->ipykernel>=5.1.2->pydeck>=0.1.dev5->streamlit) (22.3.0)\n",
            "Requirement already satisfied: ptyprocess>=0.5 in /usr/local/lib/python3.7/dist-packages (from pexpect>4.3->ipython>=7.23.1->ipykernel>=5.1.2->pydeck>=0.1.dev5->streamlit) (0.7.0)\n",
            "Requirement already satisfied: wcwidth in /usr/local/lib/python3.7/dist-packages (from prompt-toolkit!=3.0.0,!=3.0.1,<3.1.0,>=2.0.0->ipython>=7.23.1->ipykernel>=5.1.2->pydeck>=0.1.dev5->streamlit) (0.2.5)\n",
            "Requirement already satisfied: notebook>=4.4.1 in /usr/local/lib/python3.7/dist-packages (from widgetsnbextension~=3.5.0->ipywidgets>=7.0.0->pydeck>=0.1.dev5->streamlit) (5.3.1)\n",
            "Requirement already satisfied: Send2Trash in /usr/local/lib/python3.7/dist-packages (from notebook>=4.4.1->widgetsnbextension~=3.5.0->ipywidgets>=7.0.0->pydeck>=0.1.dev5->streamlit) (1.8.0)\n",
            "Requirement already satisfied: nbconvert in /usr/local/lib/python3.7/dist-packages (from notebook>=4.4.1->widgetsnbextension~=3.5.0->ipywidgets>=7.0.0->pydeck>=0.1.dev5->streamlit) (5.6.1)\n",
            "Requirement already satisfied: terminado>=0.8.1 in /usr/local/lib/python3.7/dist-packages (from notebook>=4.4.1->widgetsnbextension~=3.5.0->ipywidgets>=7.0.0->pydeck>=0.1.dev5->streamlit) (0.13.1)\n",
            "Requirement already satisfied: testpath in /usr/local/lib/python3.7/dist-packages (from nbconvert->notebook>=4.4.1->widgetsnbextension~=3.5.0->ipywidgets>=7.0.0->pydeck>=0.1.dev5->streamlit) (0.5.0)\n",
            "Requirement already satisfied: pandocfilters>=1.4.1 in /usr/local/lib/python3.7/dist-packages (from nbconvert->notebook>=4.4.1->widgetsnbextension~=3.5.0->ipywidgets>=7.0.0->pydeck>=0.1.dev5->streamlit) (1.5.0)\n",
            "Requirement already satisfied: mistune<2,>=0.8.1 in /usr/local/lib/python3.7/dist-packages (from nbconvert->notebook>=4.4.1->widgetsnbextension~=3.5.0->ipywidgets>=7.0.0->pydeck>=0.1.dev5->streamlit) (0.8.4)\n",
            "Requirement already satisfied: defusedxml in /usr/local/lib/python3.7/dist-packages (from nbconvert->notebook>=4.4.1->widgetsnbextension~=3.5.0->ipywidgets>=7.0.0->pydeck>=0.1.dev5->streamlit) (0.7.1)\n",
            "Requirement already satisfied: bleach in /usr/local/lib/python3.7/dist-packages (from nbconvert->notebook>=4.4.1->widgetsnbextension~=3.5.0->ipywidgets>=7.0.0->pydeck>=0.1.dev5->streamlit) (4.1.0)\n",
            "Requirement already satisfied: webencodings in /usr/local/lib/python3.7/dist-packages (from bleach->nbconvert->notebook>=4.4.1->widgetsnbextension~=3.5.0->ipywidgets>=7.0.0->pydeck>=0.1.dev5->streamlit) (0.5.1)\n",
            "Requirement already satisfied: pyparsing!=3.0.5,>=2.0.2 in /usr/local/lib/python3.7/dist-packages (from packaging->streamlit) (3.0.7)\n",
            "Requirement already satisfied: chardet<4,>=3.0.2 in /usr/local/lib/python3.7/dist-packages (from requests->streamlit) (3.0.4)\n",
            "Requirement already satisfied: certifi>=2017.4.17 in /usr/local/lib/python3.7/dist-packages (from requests->streamlit) (2021.10.8)\n",
            "Requirement already satisfied: urllib3!=1.25.0,!=1.25.1,<1.26,>=1.21.1 in /usr/local/lib/python3.7/dist-packages (from requests->streamlit) (1.24.3)\n",
            "Requirement already satisfied: idna<3,>=2.5 in /usr/local/lib/python3.7/dist-packages (from requests->streamlit) (2.10)\n"
          ]
        }
      ],
      "source": [
        "# Instalando as bibliotecas necessárias.\n",
        "!pip install numpy\n",
        "!pip install pillow\n",
        "!pip install tensorflow\n",
        "!pip install keras\n",
        "!pip install streamlit\n",
        "\n"
      ]
    },
    {
      "cell_type": "code",
      "execution_count": null,
      "metadata": {
        "cellView": "form",
        "id": "S5DE1fFqcSH-"
      },
      "outputs": [],
      "source": [
        "#@title Clique aqui para ver a resposta.\n",
        "\n",
        "!pip install numpy\n",
        "!pip install pillow\n",
        "!pip install tensorflow\n",
        "!pip install keras\n",
        "!pip install streamlit"
      ]
    },
    {
      "cell_type": "markdown",
      "metadata": {
        "id": "znegMbA2dTcu"
      },
      "source": [
        "## **04.CRIAR UM ARQUIVO PARA CLASSIFICAR IMAGENS.**"
      ]
    },
    {
      "cell_type": "markdown",
      "metadata": {
        "id": "nSSLJmcAq-oU"
      },
      "source": [
        "### **04.a.Descrição.**"
      ]
    },
    {
      "cell_type": "markdown",
      "metadata": {
        "id": "7aXRwZczcfZ2"
      },
      "source": [
        "- **01.Use o comando `%%writefile` para criar o arquivo chamado `arquivo_classificador_de_imagem.py`.**\n",
        "\n",
        "- **02.Preparar a classificação de imagem.**\n",
        " - **02.a.Importar as bibliotecas necessárias.**\n",
        "    - Importe as seguintes bibliotecas:\n",
        "    ```\n",
        "    import tensorflow.keras\n",
        "    from PIL import Image, ImageOps\n",
        "    import numpy as np\n",
        "    ```\n",
        "  - **02.b.Crie a função `funcao_classificar_imagem()` que tenha os parâmentros `img`, `keras_model` e que tenha como retorno `return np.argmax(prediction)`.**\n",
        "\n",
        "    - Copie e cole o código gerado pelo ***Teachable Machine***.\n",
        "    - Adequar na função:\n",
        "     - Identação do código adicionado dentro da função.\n",
        "     - Endereço da imagem a ser classificada.\n",
        "\n",
        "- **03.Adicionar o modelo de classificação (`keras_model.h5`) na área de arquivos.**"
      ]
    },
    {
      "cell_type": "code",
      "execution_count": null,
      "metadata": {
        "colab": {
          "base_uri": "https://localhost:8080/"
        },
        "id": "vPI5c2kigqBW",
        "outputId": "48cbb7d0-c37c-43a7-9c30-1d4d7a408402"
      },
      "outputs": [
        {
          "name": "stdout",
          "output_type": "stream",
          "text": [
            "Writing arquivo_classificador_de_imagem.py\n"
          ]
        }
      ],
      "source": [
        "# CRIAR ARQUIVO DE CLASSIFICAÇÃO.\n",
        "%%writefile arquivo_classificador_de_imagem.py\n",
        "\n",
        "# Importanto bibliotecas\n",
        "#import tensorflow.keras\n",
        "import tensorflow\n",
        "from keras.models import load_model\n",
        "from PIL import Image, ImageOps\n",
        "import numpy as np\n",
        "\n",
        "# Criando uma função\n",
        "def funcao_classificar_imagem(img, keras_model):\n",
        "\n",
        " # Disable scientific notation for clarity\n",
        "  np.set_printoptions(suppress=True)\n",
        "\n",
        "  # Load the model\n",
        "  #model = tensorflow.keras.models.load_model('keras_model.h5')\n",
        "  model = load_model('keras_model.h5')\n",
        "\n",
        "\n",
        "  # Create the array of the right shape to feed into the keras model\n",
        "  # The 'length' or number of images you can put into the array is\n",
        "  # determined by the first position in the shape tuple, in this case 1.\n",
        "  data = np.ndarray(shape=(1, 224, 224, 3), dtype=np.float32)\n",
        "\n",
        "  # Replace this with the path to your image\n",
        "  image = img\n",
        "\n",
        "  #resize the image to a 224x224 with the same strategy as in TM2:\n",
        "  #resizing the image to be at least 224x224 and then cropping from the center\n",
        "  size = (224, 224)\n",
        "  image = ImageOps.fit(image, size, Image.ANTIALIAS)\n",
        "\n",
        "  #turn the image into a numpy array\n",
        "  image_array = np.asarray(image)\n",
        "  # Normalize the image\n",
        "  normalized_image_array = (image_array.astype(np.float32) / 127.0) - 1\n",
        "  # Load the image into the array\n",
        "  data[0] = normalized_image_array\n",
        "\n",
        "  # run the inference\n",
        "  prediction = model.predict(data)\n",
        "  print(prediction)\n",
        "\n",
        "  return np.argmax(prediction)\n"
      ]
    },
    {
      "cell_type": "code",
      "execution_count": null,
      "metadata": {
        "cellView": "form",
        "id": "fQyJv3tchCSE"
      },
      "outputs": [],
      "source": [
        "#@title Clique aqui para ver a resposta.\n",
        "\n",
        "# 01.Criar o arquivo.\n",
        "%%writefile arquivo_classificador_de_imagem.py\n",
        "\n",
        "import tensorflow.keras\n",
        "from PIL import Image, ImageOps\n",
        "import numpy as np\n",
        "\n",
        "def funcao_classificar_imagem(img, keras_model):\n",
        "\n",
        "  # Disable scientific notation for clarity\n",
        "  np.set_printoptions(suppress=True)\n",
        "\n",
        "  # Load the model\n",
        "  model = tensorflow.keras.models.load_model('keras_model.h5')\n",
        "\n",
        "  # Create the array of the right shape to feed into the keras model\n",
        "  # The 'length' or number of images you can put into the array is\n",
        "  # determined by the first position in the shape tuple, in this case 1.\n",
        "  data = np.ndarray(shape=(1, 224, 224, 3), dtype=np.float32)\n",
        "\n",
        "  # Replace this with the path to your image\n",
        "  image = img\n",
        "\n",
        "  #resize the image to a 224x224 with the same strategy as in TM2:\n",
        "  #resizing the image to be at least 224x224 and then cropping from the center\n",
        "  size = (224, 224)\n",
        "  image = ImageOps.fit(image, size, Image.ANTIALIAS)\n",
        "\n",
        "  #turn the image into a numpy array\n",
        "  image_array = np.asarray(image)\n",
        "\n",
        "  # display the resized image\n",
        "  image.show()\n",
        "\n",
        "  # Normalize the image\n",
        "  normalized_image_array = (image_array.astype(np.float32) / 127.0) - 1\n",
        "\n",
        "  # Load the image into the array\n",
        "  data[0] = normalized_image_array\n",
        "\n",
        "  # run the inference\n",
        "  prediction = model.predict(data)\n",
        "  print(prediction)\n",
        "\n",
        "  return np.argmax(prediction)"
      ]
    },
    {
      "cell_type": "markdown",
      "metadata": {
        "id": "c0_zPnyydbnJ"
      },
      "source": [
        "## **05.CRIAR O APLICATIVO COM *STREAMLIT*.**"
      ]
    },
    {
      "cell_type": "markdown",
      "metadata": {
        "id": "h9SBGp1rh_k_"
      },
      "source": [
        "### **05.a.Descrição.**"
      ]
    },
    {
      "cell_type": "markdown",
      "metadata": {
        "id": "UcOJWYn-QVG5"
      },
      "source": [
        "- **01.Use o comando `%%writefile` para criar o arquivo chamado `arquivo_aplicativo_de_classificacao.py`:**\n",
        "\n",
        "- **02.Importar a função `funcao_classificar_imagem` e as bibliotecas necessárias:**\n",
        "\n",
        " - **02.a.Função `funcao_classificar_imagem()` e bibliotecas necessárias.**\n",
        "```\n",
        "from arquivo_classificador_imagem import funcao_classificar_imagem\n",
        "import streamlit as st\n",
        "from PIL import Image\n",
        "```\n",
        "\n",
        "- **03.Criar os elementos que compõem o aplicativo:**\n",
        " - **03.a.Lembre-se de trocar o nome das suas classes a serem preditas.**\n",
        "\n",
        "```\n",
        "# TÍTULO DO SITE.\n",
        "st.title(\"Classificador de milho.\")\n",
        "\n",
        "# BOTÃO PARA FAZER UPLOAD DA IMAGEM A SER CLASSIFICADA.\n",
        "uploaded_file = st.file_uploader(\"Escolha um arquivo\", type=\"jpg\")\n",
        "\n",
        "# CLASSIFICAÇÃO DA IMAGEM.\n",
        "if uploaded_file is not None:\n",
        "\n",
        "    # ABRIR A IMAGEM CARREGADA.\n",
        "    image = Image.open(uploaded_file)\n",
        "\n",
        "    # MOSTRAR A IMAGEM.\n",
        "    st.image(image, caption='', use_column_width=True)\n",
        "\n",
        "    # TEXTO INDICANDO QUE A IMAGEM ESTÁ SENDO CLASSIFICADA.\n",
        "    st.write(\"Classificando...\")\n",
        "    \n",
        "    # CHAMAR A FUNÇÃO DE CLASSIFICAÇÃO DE IMAGEM\n",
        "    # E ARMAZENAR O RESULTADO NA VARIÁVEL LABEL.\n",
        "    label = funcao_classificar_imagem(image, 'keras_model.h5')\n",
        "    \n",
        "    # CONDICIONAL PARA IDENTIFICAR A CLASSE DA IMAGEM.\n",
        "    if label == 0:\n",
        "\n",
        "        # INSIRA O NOME DA PRIMEIRA CLASSE.\n",
        "        st.write(\"Milho bom.\")\n",
        "\n",
        "    else:\n",
        "\n",
        "       # INSIRA O NOME DA SEGUNDA CLASSE.\n",
        "        st.write(\"Milho ruim.\")\n",
        "```\n"
      ]
    },
    {
      "cell_type": "code",
      "execution_count": null,
      "metadata": {
        "colab": {
          "base_uri": "https://localhost:8080/"
        },
        "id": "keJnyG-hiAmW",
        "outputId": "e0aa3e72-5dcb-4b8d-bf55-a41a0121e188"
      },
      "outputs": [
        {
          "name": "stdout",
          "output_type": "stream",
          "text": [
            "Writing arquivo_aplicativo_de_classificacao.py\n"
          ]
        }
      ],
      "source": [
        "# CRIAR ARQUIVO DO APLICATIVO.\n",
        "%%writefile arquivo_aplicativo_de_classificacao.py\n",
        "\n",
        "# Importar função e biblioteca necessária\n",
        "#from arquivo_classificador_imagem import funcao_classificar_imagem\n",
        "from arquivo_classificador_de_imagem import funcao_classificar_imagem\n",
        "import streamlit as st\n",
        "from PIL import Image\n",
        "\n",
        "# Criar elementos do aplicativo\n",
        "\n",
        " # TÍTULO DO SITE.\n",
        "st.title(\"Classificador de garrafas.\")\n",
        "\n",
        "# BOTÃO PARA FAZER UPLOAD DA IMAGEM A SER CLASSIFICADA.\n",
        "uploaded_file = st.file_uploader(\"Escolha um arquivo\", type=\"jpg\")\n",
        "\n",
        "# CLASSIFICAÇÃO DA IMAGEM.\n",
        "if uploaded_file is not None:\n",
        "\n",
        "    # ABRIR A IMAGEM CARREGADA.\n",
        "    image = Image.open(uploaded_file)\n",
        "\n",
        "    # MOSTRAR A IMAGEM.\n",
        "    st.image(image, caption='', use_column_width=True)\n",
        "\n",
        "    # TEXTO INDICANDO QUE A IMAGEM ESTÁ SENDO CLASSIFICADA.\n",
        "    st.write(\"Classificando...\")\n",
        "\n",
        "    # CHAMAR A FUNÇÃO DE CLASSIFICAÇÃO DE IMAGEM\n",
        "    # E ARMAZENAR O RESULTADO NA VARIÁVEL LABEL.\n",
        "    label = funcao_classificar_imagem(image, 'keras_model.h5')\n",
        "\n",
        "    # CONDICIONAL PARA IDENTIFICAR A CLASSE DA IMAGEM.\n",
        "    if label == 0:\n",
        "\n",
        "        # INSIRA O NOME DA PRIMEIRA CLASSE.\n",
        "        st.write(\"Garrafa cheia.\")\n",
        "\n",
        "    else:\n",
        "\n",
        "       # INSIRA O NOME DA SEGUNDA CLASSE.\n",
        "        st.write(\"Garaffa vazia.\")"
      ]
    },
    {
      "cell_type": "code",
      "execution_count": null,
      "metadata": {
        "cellView": "form",
        "id": "hVYDHy9qiDZf"
      },
      "outputs": [],
      "source": [
        "#@title Clique aqui para ver a resposta.\n",
        "\n",
        "# 01.Criar o arquivo chamado arquivo_aplicativo_de_classificacao.py.\n",
        "%%writefile arquivo_aplicativo_de_classificacao.py\n",
        "\n",
        "# 02.Importar a função funcao_classificar_imagem e as bibliotecas necessárias.\n",
        "from arquivo_classificador_de_imagem import funcao_classificar_imagem\n",
        "import streamlit as st\n",
        "from PIL import Image\n",
        "\n",
        "# 03.Criar os elementos que compõe o aplicativo.\n",
        "# TÍTULO DO SITE.\n",
        "st.title(\"Classificador de milho.\")\n",
        " \n",
        "# BOTÃO PARA FAZER UPLOAD DA IMAGEM A SER CLASSIFICADA.\n",
        "uploaded_file = st.file_uploader(\"Escolha um arquivo\", type=\"jpg\")\n",
        " \n",
        "# CLASSIFICAÇÃO DA IMAGEM.\n",
        "if uploaded_file is not None:\n",
        " \n",
        "    # ABRIR A IMAGEM CARREGADA.\n",
        "    image = Image.open(uploaded_file)\n",
        " \n",
        "    # MOSTRAR A IMAGEM.\n",
        "    st.image(image, caption='', use_column_width=True)\n",
        " \n",
        "    # TEXTO INDICANDO QUE A IMAGEM ESTÁ SENDO CLASSIFICADA.\n",
        "    st.write(\"Classificando...\")\n",
        " \n",
        "    # CHAMAR A FUNÇÃO DE CLASSIFICAÇÃO DE IMAGEM\n",
        "    # E ARMAZENAR O RESULTADO NA VARIÁVEL LABEL.\n",
        "    label = funcao_classificar_imagem(image, 'keras_model.h5')\n",
        " \n",
        "    # CONDICIONAL PARA IDENTIFICAR A CLASSE DA IMAGEM.\n",
        "    if label == 0:\n",
        " \n",
        "        # INSIRA O NOME DA PRIMEIRA CLASSE.\n",
        "        st.write(\"Milho bom.\")\n",
        " \n",
        "    else:\n",
        " \n",
        "       # INSIRA O NOME DA SEGUNDA CLASSE.\n",
        "        st.write(\"Milho ruim.\")"
      ]
    },
    {
      "cell_type": "markdown",
      "metadata": {
        "id": "9JtIht6QderU"
      },
      "source": [
        "## **06.VISUALIZAR O APLICATIVO.**"
      ]
    },
    {
      "cell_type": "markdown",
      "metadata": {
        "id": "WJ8pE1LCiPyp"
      },
      "source": [
        "### **06.a.Descrição.**"
      ]
    },
    {
      "cell_type": "markdown",
      "metadata": {
        "id": "zmY4msDyTfE4"
      },
      "source": [
        "- Para visualizar o aplicativo precisamos:\n",
        "\n",
        " - **01.Executar (rodar) o aplicativo.**\n",
        " ```\n",
        " !streamlit run arquivo_aplicativo_de_classificacao.py &>/dev/null&\n",
        " ````\n",
        " - **02.Gerar o link do aplicativo.**\n",
        " ````\n",
        " !npx localtunnel --port 8501\n",
        " `````\n",
        "\n",
        "**Observação:** após gerar o link do aplicativo, será criado uma nova aba no navegador, entre nesta nova aba e clique no botão *Click to continue* (clique para continuar). Logo em seguida irá aparecer o aplicativo criado."
      ]
    },
    {
      "cell_type": "code",
      "execution_count": 6,
      "metadata": {
        "colab": {
          "base_uri": "https://localhost:8080/"
        },
        "id": "hCgv-sKWihaP",
        "outputId": "e5df6826-7046-43b8-f48e-6fe47eec76e1"
      },
      "outputs": [
        {
          "output_type": "stream",
          "name": "stdout",
          "text": [
            "\u001b[K\u001b[?25hnpx: installed 22 in 3.946s\n",
            "your url is: https://red-gecko-56.loca.lt\n",
            "^C\n"
          ]
        }
      ],
      "source": [
        "# EXECUTAR/RODAR O APLICATIVO.\n",
        "!streamlit run arquivo_aplicativo_de_classificacao.py &>/dev/null&\n",
        "\n",
        "# GERAR O LINK DO APLICATIVO.\n",
        "!npx localtunnel --port 8501\n"
      ]
    },
    {
      "cell_type": "code",
      "execution_count": null,
      "metadata": {
        "cellView": "form",
        "id": "lErSrS7nioBs"
      },
      "outputs": [],
      "source": [
        "#@title Clique aqui para ver a resposta.\n",
        " # 01.Executar (rodar) o aplicativo.\n",
        "!streamlit run arquivo_aplicativo_de_classificacao.py &>/dev/null&\n",
        "  \n",
        " # 02.Gerar o link do aplicativo.\n",
        "!npx localtunnel --port 8501"
      ]
    }
  ],
  "metadata": {
    "colab": {
      "collapsed_sections": [
        "PZ899Kilc9I1"
      ],
      "name": "PROJETO_STREAMLIT_exercicios_Arthur_Freitas.ipynb",
      "provenance": []
    },
    "kernelspec": {
      "display_name": "Python 3",
      "name": "python3"
    },
    "language_info": {
      "name": "python"
    }
  },
  "nbformat": 4,
  "nbformat_minor": 0
}